{
  "nbformat": 4,
  "nbformat_minor": 0,
  "metadata": {
    "colab": {
      "name": "VaR.ipynb",
      "provenance": [],
      "collapsed_sections": [],
      "authorship_tag": "ABX9TyOTx05DNfdqCbYxWIyNnV3S",
      "include_colab_link": true
    },
    "kernelspec": {
      "name": "python3",
      "display_name": "Python 3"
    },
    "language_info": {
      "name": "python"
    }
  },
  "cells": [
    {
      "cell_type": "markdown",
      "metadata": {
        "id": "view-in-github",
        "colab_type": "text"
      },
      "source": [
        "<a href=\"https://colab.research.google.com/github/yamaguchizemi/VaR/blob/main/VaR.ipynb\" target=\"_parent\"><img src=\"https://colab.research.google.com/assets/colab-badge.svg\" alt=\"Open In Colab\"/></a>"
      ]
    },
    {
      "cell_type": "markdown",
      "metadata": {
        "id": "JzyhkXmkUMmZ"
      },
      "source": [
        "# Pythonのい"
      ]
    },
    {
      "cell_type": "markdown",
      "metadata": {
        "id": "QwauOo7nFJkU"
      },
      "source": [
        "四則演算"
      ]
    },
    {
      "cell_type": "code",
      "metadata": {
        "id": "XCuDSnBvE0JU"
      },
      "source": [
        "2 + 3 # 和"
      ],
      "execution_count": null,
      "outputs": []
    },
    {
      "cell_type": "code",
      "metadata": {
        "id": "rC_0T8KCFcTw"
      },
      "source": [
        "2 - 1\t# 差"
      ],
      "execution_count": null,
      "outputs": []
    },
    {
      "cell_type": "code",
      "metadata": {
        "id": "HyCIatQJFeJq"
      },
      "source": [
        "2 * 3   # 積"
      ],
      "execution_count": null,
      "outputs": []
    },
    {
      "cell_type": "code",
      "metadata": {
        "id": "waz3Im8KFuOJ"
      },
      "source": [
        "2 / 3\t# 商"
      ],
      "execution_count": null,
      "outputs": []
    },
    {
      "cell_type": "code",
      "metadata": {
        "id": "V90NeM9_GeN6"
      },
      "source": [
        "3 % 2\t# 剰余"
      ],
      "execution_count": null,
      "outputs": []
    },
    {
      "cell_type": "code",
      "metadata": {
        "id": "e-8tagIIGQhS"
      },
      "source": [
        "2 ** 3\t# べき乗"
      ],
      "execution_count": null,
      "outputs": []
    },
    {
      "cell_type": "markdown",
      "metadata": {
        "id": "REYqeCcNJcT8"
      },
      "source": [
        "比較演算子"
      ]
    },
    {
      "cell_type": "code",
      "metadata": {
        "id": "2uccsy5YJbDi"
      },
      "source": [
        "2 == 3"
      ],
      "execution_count": null,
      "outputs": []
    },
    {
      "cell_type": "code",
      "metadata": {
        "id": "DgdML9OhKGpa"
      },
      "source": [
        "2 != 3  # 2と3は異なる"
      ],
      "execution_count": null,
      "outputs": []
    },
    {
      "cell_type": "code",
      "metadata": {
        "id": "GVr6JgurOznD"
      },
      "source": [
        "2 <= 3\t# 2は3以下"
      ],
      "execution_count": null,
      "outputs": []
    },
    {
      "cell_type": "code",
      "metadata": {
        "id": "KDNr-oXKO3F7"
      },
      "source": [
        "2 > 3\t# 2は3より大きい"
      ],
      "execution_count": null,
      "outputs": []
    },
    {
      "cell_type": "markdown",
      "metadata": {
        "id": "q347TnEPPOyC"
      },
      "source": [
        "値の代入"
      ]
    },
    {
      "cell_type": "code",
      "metadata": {
        "id": "h-19BUuPPd2C"
      },
      "source": [
        "x = 2 #数字\n",
        "x"
      ],
      "execution_count": null,
      "outputs": []
    },
    {
      "cell_type": "code",
      "metadata": {
        "id": "LfIoFa7MQatT"
      },
      "source": [
        "y = \"Hello, World!\"\t# 文字列\n",
        "y"
      ],
      "execution_count": null,
      "outputs": []
    },
    {
      "cell_type": "code",
      "metadata": {
        "id": "7YFLmsckRn6K"
      },
      "source": [
        "a = [0, 2, 4]\t# 複数の要素\n",
        "a\n",
        "b = [0, 4, 2]\n",
        "b"
      ],
      "execution_count": null,
      "outputs": []
    },
    {
      "cell_type": "markdown",
      "metadata": {
        "id": "NGrGy4C_SWwr"
      },
      "source": [
        "折れ線グラフを描画"
      ]
    },
    {
      "cell_type": "code",
      "metadata": {
        "id": "4FwXK4KuSaZg"
      },
      "source": [
        "import matplotlib.pyplot as plt\t# ライブラリ読み込み\n",
        "plt.style.use('ggplot')\t# スタイルを適用\n",
        "\n",
        "fig = plt.figure()\t# フィギュアを用意\n",
        "ax = fig.add_subplot(111)\t# サブプロットを用意\n",
        "\n",
        "ax.plot(a,b)\t# 図を作成\n",
        "plt.show()\t# 図を表示"
      ],
      "execution_count": null,
      "outputs": []
    },
    {
      "cell_type": "markdown",
      "metadata": {
        "id": "VpRLqqxkT_2w"
      },
      "source": [
        "# VaRへ"
      ]
    },
    {
      "cell_type": "markdown",
      "metadata": {
        "id": "bCsamFbxHPEB"
      },
      "source": [
        "ライブラリの読み込み"
      ]
    },
    {
      "cell_type": "code",
      "metadata": {
        "id": "7dVC54vxC1YO"
      },
      "source": [
        "import numpy as np\n",
        "import pandas as pd"
      ],
      "execution_count": null,
      "outputs": []
    },
    {
      "cell_type": "markdown",
      "metadata": {
        "id": "fDuvN-wIH9kJ"
      },
      "source": [
        "マジックコマンド"
      ]
    },
    {
      "cell_type": "code",
      "metadata": {
        "id": "tx8BwN4-IA3I"
      },
      "source": [
        "%precision 3  # 表示を小数点第三位までに\n",
        "pd.set_option('precision', 3)"
      ],
      "execution_count": null,
      "outputs": []
    },
    {
      "cell_type": "markdown",
      "metadata": {
        "id": "-Y__f5VZIN8D"
      },
      "source": [
        "ファイルの取り込み先"
      ]
    },
    {
      "cell_type": "code",
      "metadata": {
        "id": "4ID5ARJODGMM"
      },
      "source": [
        "url = 'https://raw.githubusercontent.com/yamaguchizemi/VaR/main/AAPL.csv'"
      ],
      "execution_count": null,
      "outputs": []
    },
    {
      "cell_type": "markdown",
      "metadata": {
        "id": "5c0LKyYyIQGK"
      },
      "source": [
        "CSVファイルの読み込み"
      ]
    },
    {
      "cell_type": "code",
      "metadata": {
        "id": "bgt3K2toDj5V"
      },
      "source": [
        "df = pd.read_csv(url)\n",
        "df.head()"
      ],
      "execution_count": null,
      "outputs": []
    },
    {
      "cell_type": "markdown",
      "metadata": {
        "id": "50aWJhumYATv"
      },
      "source": [
        "ヒストグラムを作成"
      ]
    },
    {
      "cell_type": "code",
      "metadata": {
        "id": "o92vKXUJDnL_"
      },
      "source": [
        "df.describe() # 記述統計量"
      ],
      "execution_count": null,
      "outputs": []
    },
    {
      "cell_type": "markdown",
      "metadata": {
        "id": "csYBUEU5YwQY"
      },
      "source": [
        "階級数を決める：　スタージェスの公式　$ 1+log_2N$  　←TeX記法"
      ]
    },
    {
      "cell_type": "code",
      "metadata": {
        "colab": {
          "base_uri": "https://localhost:8080/"
        },
        "id": "syJ2Y5uDYIKm",
        "outputId": "ed210863-ab23-49aa-cccf-ef0f1e466281"
      },
      "source": [
        "c_n = 1 + np.log2(250)\n",
        "c_n"
      ],
      "execution_count": null,
      "outputs": [
        {
          "output_type": "execute_result",
          "data": {
            "text/plain": [
              "8.966"
            ]
          },
          "metadata": {},
          "execution_count": 33
        }
      ]
    },
    {
      "cell_type": "code",
      "metadata": {
        "id": "9C-DnqJGcvnO"
      },
      "source": [
        "fig = plt.figure()\t\n",
        "ax = fig.add_subplot(111)\t\n",
        "\n",
        "ax.hist(df['return'], bins=9, rwidth = 0.9, color = 'b')   # 引数binsで階級数を設定、初期値は10\n",
        "\n",
        "plt.show()"
      ],
      "execution_count": null,
      "outputs": []
    },
    {
      "cell_type": "markdown",
      "metadata": {
        "id": "SLxEE14KlatW"
      },
      "source": [
        "99%VaR"
      ]
    },
    {
      "cell_type": "code",
      "metadata": {
        "id": "WenhI4Ccghj2"
      },
      "source": [
        "df['return'].describe(percentiles = [0.01]) # 引数percentilesで1%を指定"
      ],
      "execution_count": null,
      "outputs": []
    },
    {
      "cell_type": "markdown",
      "metadata": {
        "id": "-UZ7VY3bpX2O"
      },
      "source": [
        "# エキシビション"
      ]
    },
    {
      "cell_type": "markdown",
      "metadata": {
        "id": "20tpBo8o84ZX"
      },
      "source": [
        "正規分布から99%VaRを求める"
      ]
    },
    {
      "cell_type": "code",
      "metadata": {
        "id": "NSk0Dhispbk3"
      },
      "source": [
        "from scipy.stats import norm  # SciPyは数値解析のライブラリ"
      ],
      "execution_count": null,
      "outputs": []
    },
    {
      "cell_type": "code",
      "metadata": {
        "id": "UP1NMkeSqNgk"
      },
      "source": [
        "mu = df['return'].mean()   # 平均値を代入\n",
        "sigma = df['return'].std()    # 標準偏差を代入"
      ],
      "execution_count": null,
      "outputs": []
    },
    {
      "cell_type": "code",
      "metadata": {
        "id": "zwKA-nsOq9la"
      },
      "source": [
        "p1 = norm.ppf(q = 0.01, loc = mu, scale = sigma)   # 引数qでパーセント点、locで平均、scaleで標準偏差を指定\n",
        "p1"
      ],
      "execution_count": null,
      "outputs": []
    },
    {
      "cell_type": "code",
      "metadata": {
        "id": "2kSC3CLIz-Bq"
      },
      "source": [
        "!pip install japanize-matplotlib  #　図を日本語で表示\n",
        "import japanize_matplotlib"
      ],
      "execution_count": null,
      "outputs": []
    },
    {
      "cell_type": "code",
      "metadata": {
        "colab": {
          "base_uri": "https://localhost:8080/",
          "height": 264
        },
        "id": "9y4bmy-er0qd",
        "outputId": "b5e87f3a-b980-46bd-d873-3a2cc1e4aaaf"
      },
      "source": [
        "min = np.min((df['return']))\n",
        "max = np.max(df['return'])\n",
        "\n",
        "fig = plt.figure()\n",
        "ax = fig.add_subplot(111)\n",
        "\n",
        "ax.hist(df['return'], bins = 9, range = (min, max), rwidth = 0.9, density = True, color = 'g')\n",
        "\n",
        "x = np.linspace(min, max)\n",
        "\n",
        "y = 1 / (sigma * np.sqrt(2 * np.pi)) * np.exp(-(x-mu)**2 / (2 * sigma**2))\n",
        "\n",
        "ax.plot(x,y, color ='k', linestyle = '--')  # 近似曲線を追加\n",
        "\n",
        "# fig.suptitle('相対度数と近似曲線', size = 16, weight = 2)\n",
        "# ax.set_xlabel('日次リターン')\n",
        "# ax.set_ylabel('相対度数')\n",
        "\n",
        "plt.show()"
      ],
      "execution_count": null,
      "outputs": [
        {
          "output_type": "display_data",
          "data": {
            "image/png": "[encoded data removed]",
            "text/plain": [
              "<Figure size 432x288 with 1 Axes>"
            ]
          },
          "metadata": {}
        }
      ]
    },
    {
      "cell_type": "markdown",
      "metadata": {
        "id": "peB1qEn85N4b"
      },
      "source": [
        "Pythonの勉強は無料でできます。しかも初心者に親切。\n",
        "\n",
        "\n",
        "\n",
        "*    [Pythonプログラミング入門](https://https://sites.google.com/view/ut-python/resource/%E6%95%99%E6%9D%90%E8%AC%9B%E7%BE%A9%E5%8B%95%E7%94%BB) （東京大学）\n",
        "*   [プログラミング演習 Python 2021](https://https://repository.kulib.kyoto-u.ac.jp/dspace/bitstream/2433/265459/1/Version2021_10_08_01.pdf)（京都大学）\n",
        "\n",
        "東大の方はColaboratoryが使えるのでオススメ!\n",
        "\n",
        "\n",
        "\n",
        "\n"
      ]
    }
  ]
}